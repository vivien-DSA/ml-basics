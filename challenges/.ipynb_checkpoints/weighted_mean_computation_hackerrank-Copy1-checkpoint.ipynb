{
 "cells": [
  {
   "cell_type": "code",
   "execution_count": 15,
   "metadata": {},
   "outputs": [
    {
     "name": "stdout",
     "output_type": "stream",
     "text": [
      "10\n",
      "64630 11735 14216 99233 14470 4978 73429 38120 51135 67060\n",
      "43900.6\n",
      "[4978, 11735, 14216, 14470, 38120, 51135, 64630, 67060, 73429, 99233]\n",
      "44627.5\n",
      "4978\n"
     ]
    }
   ],
   "source": [
    "# Enter your code here. Read input from STDIN. Print output to STDOUT\n",
    "nbr_of_elt = int(input().strip().split()[0])\n",
    "\n",
    "array_elts = [int(ipt) for ipt in input().strip().split()]\n",
    "\n",
    "def mean_computation(array, nbr_of_elt):\n",
    "    return sum(array)/nbr_of_elt\n",
    "\n",
    "def median_computation(array, nbr_of_elt):\n",
    "    array = sorted(array)\n",
    "    if nbr_of_elt % 2 == 0 :\n",
    "        print(array)\n",
    "        return (array[int(nbr_of_elt/2-1)] + array[int(nbr_of_elt/2)])/2\n",
    "    else:\n",
    "        return array[int(nbr_of_elt/2 + 1)]\n",
    "\n",
    "def mode_computation(array, nbr_of_elt):\n",
    "    count  = {}\n",
    "    for elt in array:\n",
    "        count[elt] = 0\n",
    "        for elt_i in array:\n",
    "            if elt_i == elt:\n",
    "                count[elt] +=1\n",
    "    max_keys = [k for k, v in count.items() if v == max(count.values())]\n",
    "    return int(min(max_keys))\n",
    "print(\"{:.1f}\".format(mean_computation(array_elts, nbr_of_elt)))\n",
    "print(\"{:.1f}\".format(median_computation(array_elts, nbr_of_elt)))\n",
    "print(\"{}\".format(mode_computation(array_elts, nbr_of_elt)))"
   ]
  },
  {
   "cell_type": "code",
   "execution_count": 2,
   "metadata": {},
   "outputs": [
    {
     "data": {
      "text/plain": [
       "map"
      ]
     },
     "execution_count": 2,
     "metadata": {},
     "output_type": "execute_result"
    }
   ],
   "source": [
    "type(nbr_of_elt)"
   ]
  },
  {
   "cell_type": "code",
   "execution_count": 3,
   "metadata": {},
   "outputs": [
    {
     "data": {
      "text/plain": [
       "map"
      ]
     },
     "execution_count": 3,
     "metadata": {},
     "output_type": "execute_result"
    }
   ],
   "source": [
    "type(array_elts)"
   ]
  },
  {
   "cell_type": "code",
   "execution_count": null,
   "metadata": {},
   "outputs": [],
   "source": []
  }
 ],
 "metadata": {
  "kernelspec": {
   "display_name": "Python 3",
   "language": "python",
   "name": "python3"
  },
  "language_info": {
   "codemirror_mode": {
    "name": "ipython",
    "version": 3
   },
   "file_extension": ".py",
   "mimetype": "text/x-python",
   "name": "python",
   "nbconvert_exporter": "python",
   "pygments_lexer": "ipython3",
   "version": "3.8.3"
  }
 },
 "nbformat": 4,
 "nbformat_minor": 4
}
